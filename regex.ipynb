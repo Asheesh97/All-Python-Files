{
 "cells": [
  {
   "cell_type": "code",
   "execution_count": 1,
   "metadata": {},
   "outputs": [],
   "source": [
    "import re\n",
    "mystring='hello ji how are you #$5 and welcome this is live session of python not a demo fully '\n",
    "pattern=re.compile(r'o')\n",
    "matches=pattern.finditer(mystring)"
   ]
  },
  {
   "cell_type": "code",
   "execution_count": 2,
   "metadata": {},
   "outputs": [
    {
     "data": {
      "text/plain": [
       "<callable_iterator at 0x2388854a548>"
      ]
     },
     "execution_count": 2,
     "metadata": {},
     "output_type": "execute_result"
    }
   ],
   "source": [
    "matches"
   ]
  },
  {
   "cell_type": "code",
   "execution_count": 3,
   "metadata": {},
   "outputs": [
    {
     "name": "stdout",
     "output_type": "stream",
     "text": [
      "<re.Match object; span=(4, 5), match='o'>\n",
      "#\n",
      "<re.Match object; span=(10, 11), match='o'>\n",
      "#\n",
      "<re.Match object; span=(18, 19), match='o'>\n",
      "#\n",
      "<re.Match object; span=(33, 34), match='o'>\n",
      "#\n",
      "<re.Match object; span=(55, 56), match='o'>\n",
      "#\n",
      "<re.Match object; span=(58, 59), match='o'>\n",
      "#\n",
      "<re.Match object; span=(65, 66), match='o'>\n",
      "#\n",
      "<re.Match object; span=(69, 70), match='o'>\n",
      "#\n",
      "<re.Match object; span=(77, 78), match='o'>\n",
      "#\n"
     ]
    }
   ],
   "source": [
    "for match in matches:\n",
    "    print(match)\n",
    "    print(mystring[21:22])"
   ]
  },
  {
   "cell_type": "code",
   "execution_count": 4,
   "metadata": {},
   "outputs": [
    {
     "data": {
      "text/plain": [
       "re.compile(r'o', re.UNICODE)"
      ]
     },
     "execution_count": 4,
     "metadata": {},
     "output_type": "execute_result"
    }
   ],
   "source": [
    "pattern"
   ]
  },
  {
   "cell_type": "code",
   "execution_count": 5,
   "metadata": {},
   "outputs": [
    {
     "data": {
      "text/plain": [
       "<list_iterator at 0x23889262bc8>"
      ]
     },
     "execution_count": 5,
     "metadata": {},
     "output_type": "execute_result"
    }
   ],
   "source": [
    "l=[1,2,3,4,5]\n",
    "k=iter(l)\n",
    "k"
   ]
  },
  {
   "cell_type": "code",
   "execution_count": 6,
   "metadata": {},
   "outputs": [
    {
     "data": {
      "text/plain": [
       "1"
      ]
     },
     "execution_count": 6,
     "metadata": {},
     "output_type": "execute_result"
    }
   ],
   "source": [
    "next(k)"
   ]
  },
  {
   "cell_type": "code",
   "execution_count": 7,
   "metadata": {},
   "outputs": [
    {
     "data": {
      "text/plain": [
       "2"
      ]
     },
     "execution_count": 7,
     "metadata": {},
     "output_type": "execute_result"
    }
   ],
   "source": [
    "next(k)"
   ]
  },
  {
   "cell_type": "code",
   "execution_count": 8,
   "metadata": {},
   "outputs": [],
   "source": [
    "mystring='hello ji how are you #$5 and welcome this is live session of python not a demo fully '\n",
    "pattern=re.compile(r'.')\n",
    "matches=pattern.finditer(mystring)"
   ]
  },
  {
   "cell_type": "code",
   "execution_count": 9,
   "metadata": {},
   "outputs": [
    {
     "name": "stdout",
     "output_type": "stream",
     "text": [
      "<re.Match object; span=(0, 1), match='h'>\n",
      "<re.Match object; span=(1, 2), match='e'>\n",
      "<re.Match object; span=(2, 3), match='l'>\n",
      "<re.Match object; span=(3, 4), match='l'>\n",
      "<re.Match object; span=(4, 5), match='o'>\n",
      "<re.Match object; span=(5, 6), match=' '>\n",
      "<re.Match object; span=(6, 7), match='j'>\n",
      "<re.Match object; span=(7, 8), match='i'>\n",
      "<re.Match object; span=(8, 9), match=' '>\n",
      "<re.Match object; span=(9, 10), match='h'>\n",
      "<re.Match object; span=(10, 11), match='o'>\n",
      "<re.Match object; span=(11, 12), match='w'>\n",
      "<re.Match object; span=(12, 13), match=' '>\n",
      "<re.Match object; span=(13, 14), match='a'>\n",
      "<re.Match object; span=(14, 15), match='r'>\n",
      "<re.Match object; span=(15, 16), match='e'>\n",
      "<re.Match object; span=(16, 17), match=' '>\n",
      "<re.Match object; span=(17, 18), match='y'>\n",
      "<re.Match object; span=(18, 19), match='o'>\n",
      "<re.Match object; span=(19, 20), match='u'>\n",
      "<re.Match object; span=(20, 21), match=' '>\n",
      "<re.Match object; span=(21, 22), match='#'>\n",
      "<re.Match object; span=(22, 23), match='$'>\n",
      "<re.Match object; span=(23, 24), match='5'>\n",
      "<re.Match object; span=(24, 25), match=' '>\n",
      "<re.Match object; span=(25, 26), match='a'>\n",
      "<re.Match object; span=(26, 27), match='n'>\n",
      "<re.Match object; span=(27, 28), match='d'>\n",
      "<re.Match object; span=(28, 29), match=' '>\n",
      "<re.Match object; span=(29, 30), match='w'>\n",
      "<re.Match object; span=(30, 31), match='e'>\n",
      "<re.Match object; span=(31, 32), match='l'>\n",
      "<re.Match object; span=(32, 33), match='c'>\n",
      "<re.Match object; span=(33, 34), match='o'>\n",
      "<re.Match object; span=(34, 35), match='m'>\n",
      "<re.Match object; span=(35, 36), match='e'>\n",
      "<re.Match object; span=(36, 37), match=' '>\n",
      "<re.Match object; span=(37, 38), match='t'>\n",
      "<re.Match object; span=(38, 39), match='h'>\n",
      "<re.Match object; span=(39, 40), match='i'>\n",
      "<re.Match object; span=(40, 41), match='s'>\n",
      "<re.Match object; span=(41, 42), match=' '>\n",
      "<re.Match object; span=(42, 43), match='i'>\n",
      "<re.Match object; span=(43, 44), match='s'>\n",
      "<re.Match object; span=(44, 45), match=' '>\n",
      "<re.Match object; span=(45, 46), match='l'>\n",
      "<re.Match object; span=(46, 47), match='i'>\n",
      "<re.Match object; span=(47, 48), match='v'>\n",
      "<re.Match object; span=(48, 49), match='e'>\n",
      "<re.Match object; span=(49, 50), match=' '>\n",
      "<re.Match object; span=(50, 51), match='s'>\n",
      "<re.Match object; span=(51, 52), match='e'>\n",
      "<re.Match object; span=(52, 53), match='s'>\n",
      "<re.Match object; span=(53, 54), match='s'>\n",
      "<re.Match object; span=(54, 55), match='i'>\n",
      "<re.Match object; span=(55, 56), match='o'>\n",
      "<re.Match object; span=(56, 57), match='n'>\n",
      "<re.Match object; span=(57, 58), match=' '>\n",
      "<re.Match object; span=(58, 59), match='o'>\n",
      "<re.Match object; span=(59, 60), match='f'>\n",
      "<re.Match object; span=(60, 61), match=' '>\n",
      "<re.Match object; span=(61, 62), match='p'>\n",
      "<re.Match object; span=(62, 63), match='y'>\n",
      "<re.Match object; span=(63, 64), match='t'>\n",
      "<re.Match object; span=(64, 65), match='h'>\n",
      "<re.Match object; span=(65, 66), match='o'>\n",
      "<re.Match object; span=(66, 67), match='n'>\n",
      "<re.Match object; span=(67, 68), match=' '>\n",
      "<re.Match object; span=(68, 69), match='n'>\n",
      "<re.Match object; span=(69, 70), match='o'>\n",
      "<re.Match object; span=(70, 71), match='t'>\n",
      "<re.Match object; span=(71, 72), match=' '>\n",
      "<re.Match object; span=(72, 73), match='a'>\n",
      "<re.Match object; span=(73, 74), match=' '>\n",
      "<re.Match object; span=(74, 75), match='d'>\n",
      "<re.Match object; span=(75, 76), match='e'>\n",
      "<re.Match object; span=(76, 77), match='m'>\n",
      "<re.Match object; span=(77, 78), match='o'>\n",
      "<re.Match object; span=(78, 79), match=' '>\n",
      "<re.Match object; span=(79, 80), match='f'>\n",
      "<re.Match object; span=(80, 81), match='u'>\n",
      "<re.Match object; span=(81, 82), match='l'>\n",
      "<re.Match object; span=(82, 83), match='l'>\n",
      "<re.Match object; span=(83, 84), match='y'>\n",
      "<re.Match object; span=(84, 85), match=' '>\n"
     ]
    }
   ],
   "source": [
    "for i in matches:\n",
    "    print(i)"
   ]
  },
  {
   "cell_type": "code",
   "execution_count": 9,
   "metadata": {},
   "outputs": [],
   "source": [
    "mystring='hello ji how are you #$5 and welcome this is live session of python not a demo fully'\n",
    "pattern=re.compile(r'^lkfg')\n",
    "matches=pattern.finditer(mystring)"
   ]
  },
  {
   "cell_type": "code",
   "execution_count": 10,
   "metadata": {},
   "outputs": [],
   "source": [
    "for i in matches:\n",
    "    print(i)"
   ]
  },
  {
   "cell_type": "code",
   "execution_count": 1,
   "metadata": {},
   "outputs": [],
   "source": [
    "import re\n",
    "mystring='hello ji how are you #$5 and welcome this is live session of python not a demo fully '\n",
    "pattern=re.compile(r'fulikdfuj98ewif$')\n",
    "matches=pattern.finditer(mystring)"
   ]
  },
  {
   "cell_type": "code",
   "execution_count": null,
   "metadata": {},
   "outputs": [],
   "source": [
    "for i in matches:\n",
    "    print(i)"
   ]
  },
  {
   "cell_type": "code",
   "execution_count": null,
   "metadata": {},
   "outputs": [],
   "source": []
  },
  {
   "cell_type": "code",
   "execution_count": null,
   "metadata": {},
   "outputs": [],
   "source": []
  }
 ],
 "metadata": {
  "kernelspec": {
   "display_name": "Python 3",
   "language": "python",
   "name": "python3"
  },
  "language_info": {
   "codemirror_mode": {
    "name": "ipython",
    "version": 3
   },
   "file_extension": ".py",
   "mimetype": "text/x-python",
   "name": "python",
   "nbconvert_exporter": "python",
   "pygments_lexer": "ipython3",
   "version": "3.7.4"
  }
 },
 "nbformat": 4,
 "nbformat_minor": 2
}
